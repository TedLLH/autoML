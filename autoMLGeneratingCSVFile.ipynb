{
 "cells": [
  {
   "cell_type": "code",
   "execution_count": null,
   "metadata": {},
   "outputs": [],
   "source": [
    "import pandas as pd\n",
    "import os\n",
    "import sys\n",
    "import glob"
   ]
  },
  {
   "cell_type": "markdown",
   "metadata": {},
   "source": [
    "##### All the scripts below only works if you run the jupyter notebook from linux, as it contains a lot of bash scripts"
   ]
  },
  {
   "cell_type": "code",
   "execution_count": null,
   "metadata": {},
   "outputs": [],
   "source": [
    "#####EDIT\n",
    "pathList = !gsutil ls \"gs://[THE PATH OF YOUR GOOGLE CLOUD BUCKET WHERE YOU STORE YOUR IMAGES]\"\n",
    "\n",
    "#for example: gs://automl/images/top1000banner/300_1/20thCenturyFox/"
   ]
  },
  {
   "cell_type": "code",
   "execution_count": null,
   "metadata": {},
   "outputs": [],
   "source": [
    "labels=[]\n",
    "\n",
    "for pathName in pathList:\n",
    "    labels.append(pathName.split('/')[-2])\n",
    "    \n",
    "labels"
   ]
  },
  {
   "cell_type": "code",
   "execution_count": null,
   "metadata": {},
   "outputs": [],
   "source": [
    "#####EDIT GCBucketPath\n",
    "GCBucketPath = 'top1000banner/300_1'\n",
    "\n",
    "folder_bash = ('')\n",
    "\n",
    "for i in labels:\n",
    "    folder_bash=folder_bash + '\\'' + i + '\\' '\n",
    "\n",
    "os.environ['path']=GCBucketPath\n",
    "os.environ['folder']=folder_bash"
   ]
  },
  {
   "cell_type": "code",
   "execution_count": null,
   "metadata": {},
   "outputs": [],
   "source": [
    "#####check the length of the labels, if it's too long, it will break the jupyter notebook later on, I keep it around 300, you should try no more than 400\n",
    "len(labels)"
   ]
  },
  {
   "cell_type": "code",
   "execution_count": null,
   "metadata": {
    "scrolled": true
   },
   "outputs": [],
   "source": [
    "%%bash\n",
    "#set internal field separator\n",
    "IFS=\"\"\n",
    "declare -a folder=$folder\n",
    "echo $folder"
   ]
  },
  {
   "cell_type": "code",
   "execution_count": null,
   "metadata": {
    "scrolled": true
   },
   "outputs": [],
   "source": [
    "%%bash\n",
    "#make csv from GC bucket\n",
    "\n",
    "#set internal field separator\n",
    "IFS=\"\"\n",
    "\n",
    "declare -a path=$path\n",
    "declare -a folder=\\($folder\\)\n",
    "######EDIT labels, copy and paste the output from the above cell into the variable below, eg: declare -a name=('20thCenturyFox')\n",
    "declare -a name=()\n",
    "\n",
    "num=0\n",
    "\n",
    "for i in \"${folder[@]}\"\n",
    "do\n",
    "    #making csv in pwd\n",
    "    gsutil -m ls \"gs://[YOUR GC BUCKET PATH]$path/$i\" > \"$i.csv\"\n",
    "    #run the pre_process.py to remove thumbs.db, .csv and add labels, make sure the pre_process.py is in the same path as this notebook\n",
    "    python pre_process.py $i $path \"${name[num]}\"\n",
    "    let num++\n",
    "    #copy edited csv to GC bucket\n",
    "    gsutil -m cp \"$i.csv\" \"gs://[YOUR GC BUCKET PATH]$path/$i\"\n",
    "done"
   ]
  },
  {
   "cell_type": "code",
   "execution_count": null,
   "metadata": {},
   "outputs": [],
   "source": [
    "#print var_\n",
    "num = 0\n",
    "\n",
    "#####EDIT the number of range depends on how many variables you have\n",
    "for i in range(300):\n",
    "    print(\"var_\" + str(num) + ',')\n",
    "    num = num + 1"
   ]
  },
  {
   "cell_type": "code",
   "execution_count": null,
   "metadata": {},
   "outputs": [],
   "source": [
    "#print pd.read_csv(folder_python[\"+str(num)+\"] + \\\".csv\\\", header=None for every single var_\n",
    "\n",
    "# print \"= pd.read_csv(folder_python[\"+str(num)+\"] + \\\".csv\\\", header=None)\")\n",
    "num=0\n",
    "for i in range(698):\n",
    "    print(\"var_\" + str(num) + \"= pd.read_csv(folder_python[\"+str(num)+\"] + \\\".csv\\\", header=None)\")\n",
    "    num=num+1"
   ]
  },
  {
   "cell_type": "code",
   "execution_count": null,
   "metadata": {
    "scrolled": true
   },
   "outputs": [],
   "source": [
    "#create all_in_one csv, so you could import all the labels at once to autoML later on\n",
    "\n",
    "#*****300 variables is a safe number, do not go for more than 400 unless you want to break your notebook*****\n",
    "\n",
    "#####EDIT the path where you want to store the all_in_one.csv\n",
    "all_in_one_path=\"\"\n",
    "all_in_one=\"all_in_one\"\n",
    "#####add/remove variables if needed, just copy and paste from the output of the above cell\n",
    "var_0= pd.read_csv(folder_python[0] + \".csv\", header=None)\n",
    "var_1= pd.read_csv(folder_python[1] + \".csv\", header=None)\n",
    "var_2= pd.read_csv(folder_python[2] + \".csv\", header=None)\n",
    "var_3= pd.read_csv(folder_python[3] + \".csv\", header=None)\n",
    "var_4= pd.read_csv(folder_python[4] + \".csv\", header=None)\n",
    "var_5= pd.read_csv(folder_python[5] + \".csv\", header=None)\n",
    "var_6= pd.read_csv(folder_python[6] + \".csv\", header=None)\n",
    "var_7= pd.read_csv(folder_python[7] + \".csv\", header=None)\n",
    "var_8= pd.read_csv(folder_python[8] + \".csv\", header=None)\n",
    "var_9= pd.read_csv(folder_python[9] + \".csv\", header=None)\n",
    "var_10= pd.read_csv(folder_python[10] + \".csv\", header=None)\n",
    ".\n",
    ".\n",
    ".\n",
    "var_297= pd.read_csv(folder_python[297] + \".csv\", header=None)\n",
    "var_298= pd.read_csv(folder_python[298] + \".csv\", header=None)\n",
    "\n",
    "#####add/remove variables if needed, just copy and paste from the output of the above cell\n",
    "df = pd.concat([var_0,\n",
    "var_1,\n",
    "var_2,\n",
    "var_3,\n",
    "var_4,\n",
    "var_5,\n",
    "var_6,\n",
    "var_7,\n",
    "var_8,\n",
    "var_9,\n",
    "var_10,\n",
    ".\n",
    ".\n",
    ".\n",
    "var_297,\n",
    "var_298\n",
    "])\n",
    "df.to_csv(all_in_one_path + all_in_one + '.csv', index=False, header=False)\n",
    "\n",
    "os.environ['all_in_one_path']=all_in_one_path\n",
    "os.environ['all_in_one']=all_in_one"
   ]
  },
  {
   "cell_type": "markdown",
   "metadata": {},
   "source": [
    "# Upload all_in_one.csv to bucket after cleaning the data"
   ]
  },
  {
   "cell_type": "code",
   "execution_count": null,
   "metadata": {},
   "outputs": [],
   "source": [
    "%%bash\n",
    "#upload all_in_one to GC bucket\n",
    "\n",
    "gsutil -m cp \"$all_in_one_path$all_in_one.csv\" \"gs://[YOUR GC BUCKET PATH]$path\""
   ]
  },
  {
   "cell_type": "code",
   "execution_count": null,
   "metadata": {},
   "outputs": [],
   "source": [
    "#copy this output of this cell to autoML CSV 'add image' -> 'import via csv' to import images from GC bucket\n",
    "print('gs://[YOUR GC BUCKET PATH]'+ path  + '/' + all_in_one + '.csv')"
   ]
  }
 ],
 "metadata": {
  "kernelspec": {
   "display_name": "Python 3",
   "language": "python",
   "name": "python3"
  },
  "language_info": {
   "codemirror_mode": {
    "name": "ipython",
    "version": 3
   },
   "file_extension": ".py",
   "mimetype": "text/x-python",
   "name": "python",
   "nbconvert_exporter": "python",
   "pygments_lexer": "ipython3",
   "version": "3.5.2"
  }
 },
 "nbformat": 4,
 "nbformat_minor": 2
}
